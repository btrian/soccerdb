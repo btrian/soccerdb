{
 "cells": [
  {
   "cell_type": "markdown",
   "metadata": {},
   "source": [
    "> **Tip**: Welcome to the Investigate a Dataset project! You will find tips in quoted sections like this to help organize your approach to your investigation. Before submitting your project, it will be a good idea to go back through your report and remove these sections to make the presentation of your work as tidy as possible. First things first, you might want to double-click this Markdown cell and change the title so that it reflects your dataset and investigation.\n",
    "\n",
    "# Project: Investigate a Dataset (Replace this with something more specific!)\n",
    "\n",
    "## Table of Contents\n",
    "<ul>\n",
    "<li><a href=\"#intro\">Introduction</a></li>\n",
    "<li><a href=\"#wrangling\">Data Wrangling</a></li>\n",
    "<li><a href=\"#eda\">Exploratory Data Analysis</a></li>\n",
    "<li><a href=\"#conclusions\">Conclusions</a></li>\n",
    "</ul>"
   ]
  },
  {
   "cell_type": "markdown",
   "metadata": {},
   "source": [
    "<a id='intro'></a>\n",
    "## Introduction\n",
    "\n",
    "> **Tip**: In this section of the report, provide a brief introduction to the dataset you've selected for analysis. At the end of this section, describe the questions that you plan on exploring over the course of the report. Try to build your report around the analysis of at least one dependent variable and three independent variables.\n",
    ">\n",
    "> If you haven't yet selected and downloaded your data, make sure you do that first before coming back here. If you're not sure what questions to ask right now, then make sure you familiarize yourself with the variables and the dataset context for ideas of what to explore."
   ]
  },
  {
   "cell_type": "code",
   "execution_count": 10,
   "metadata": {},
   "outputs": [],
   "source": [
    "# Use this cell to set up import statements for all of the packages that you\n",
    "#   plan to use.\n",
    "import pandas as pd\n",
    "import sqlite3\n",
    "import numpy as np\n",
    "%matplotlib inline\n",
    "import seaborn as sns\n",
    "\n",
    "# Remember to include a 'magic word' so that your visualizations are plotted\n",
    "#   inline with the notebook. See this page for more:\n",
    "#   http://ipython.readthedocs.io/en/stable/interactive/magics.html\n"
   ]
  },
  {
   "cell_type": "markdown",
   "metadata": {},
   "source": [
    "<a id='wrangling'></a>\n",
    "## Data Wrangling\n",
    "\n",
    "> **Tip**: In this section of the report, you will load in the data, check for cleanliness, and then trim and clean your dataset for analysis. Make sure that you document your steps carefully and justify your cleaning decisions.\n",
    "\n",
    "### General Properties"
   ]
  },
  {
   "cell_type": "code",
   "execution_count": 51,
   "metadata": {
    "scrolled": true
   },
   "outputs": [
    {
     "data": {
      "text/plain": [
       "id              int64\n",
       "country_id      int64\n",
       "league_id       int64\n",
       "season         object\n",
       "stage           int64\n",
       "               ...   \n",
       "GBD           float64\n",
       "GBA           float64\n",
       "BSH           float64\n",
       "BSD           float64\n",
       "BSA           float64\n",
       "Length: 115, dtype: object"
      ]
     },
     "execution_count": 51,
     "metadata": {},
     "output_type": "execute_result"
    }
   ],
   "source": [
    "# Load your data and print out a few lines. Perform operations to inspect data\n",
    "#   types and look for instances of missing or possibly errant data.\n",
    "# player_At =pd.read_sql_query('select * from player_Attributes', cnt)\n",
    "# country =pd.read_sql_query('select * from country', cnt)\n",
    "# player =pd.read_sql_query('select * from player', cnt)\n",
    "# league =pd.read_sql_query('select * from league', cnt)\n",
    "\n",
    "# team =pd.read_sql_query('select * from team', cnt)\n",
    "# team_At =pd.read_sql_query('select * from team_Attributes', cnt)\n",
    "\n",
    "#print(country.columns)\n",
    "\n",
    "cnt = sqlite3.connect('database.sqlite')\n",
    "match =pd.read_sql_query('select * from match', cnt)\n",
    "game_query = \"\"\"\n",
    "SELECT cy.name, lg.name , lg.id, mt.season, mt.stage, mt.date, mt.match_api_id, mt.home_team_api_id, \n",
    "mt.away_team_api_id,mt.home_team_goal\n",
    "FROM country cy\n",
    " JOIN league lg ON cy.id =lg.id\n",
    " JOIN match mt ON mt.id = lg.id \"\"\"\n",
    " \n",
    "team_query = \"\"\"SELECT tm.team_api_id, tm.team_fifa_api_id, tm.team_long_name,\n",
    "tm.team_short_name, tm_at.buildUpPlaySpeed, tm_at.buildUpPlaySpeedClass, tm_at.buildUpPlayDribbling, \n",
    "tm_at.buildUpPlayDribblingClass, tm_at.buildUpPlayPassing, tm_at.buildUpPlayPassingClass \n",
    "FROM team tm \n",
    "JOIN team_Attributes tm_at ON tm.id = tm_at.id\"\"\"\n",
    "\n",
    "player_query = \"\"\"\n",
    "SELECT py.player_api_id, py.player_name, py.player_fifa_api_id, py.birthday, \n",
    "py.height, py.weight, py_at.date, py_at.overall_rating,py_at.potential, py_at.preferred_foot, py_at.attacking_work_rate,\n",
    "py_at.defensive_work_rate, py_at.crossing, py_at.finishing, py_at.heading_accuracy, py_at.short_passing, py_at.volleys,\n",
    "py_at.dribbling, py_at.curve ,py_at.free_kick_accuracy, py_at.long_passing, py_at.ball_control, py_at.acceleration, \n",
    "py_at.sprint_speed, py_at.agility,py_at.reactions, py_at.balance, py_at.shot_power, py_at.jumping, py_at.stamina, \n",
    "py_at.strength, py_at.long_shots, py_at.aggression, py_at.interceptions, py_at.positioning, py_at.vision, py_at.penalties,\n",
    "py_at.marking, py_at.standing_tackle, py_at.sliding_tackle\n",
    "FROM player py\n",
    "JOIN player_Attributes py_at ON py.id = py_at.id\n",
    "\"\"\"\n",
    "game = pd.read_sql_query(game_query, cnt)\n",
    "team =pd.read_sql_query(team_query, cnt)\n",
    "play =pd.read_sql_query(player_query, cnt)\n",
    "#print('player: ', play.shape)"
   ]
  },
  {
   "cell_type": "markdown",
   "metadata": {},
   "source": [
    "> **Tip**: You should _not_ perform too many operations in each cell. Create cells freely to explore your data. One option that you can take with this project is to do a lot of explorations in an initial notebook. These don't have to be organized, but make sure you use enough comments to understand the purpose of each code cell. Then, after you're done with your analysis, create a duplicate notebook where you will trim the excess and organize your steps so that you have a flowing, cohesive report.\n",
    "cy country tm team tm_t team_attributes\n",
    "mt match \n",
    "lg league\n",
    "py player\n",
    "py_at player attributes\n",
    "> **Tip**: Make sure that you keep your reader informed on the steps that you are taking in your investigation. Follow every code cell, or every set of related code cells, with a markdown cell to describe to the reader what was found in the preceding cell(s). Try to make it so that the reader can then understand what they will be seeing in the following cell(s).\n",
    "\n",
    "### Data Cleaning (Replace this with more specific notes!)"
   ]
  },
  {
   "cell_type": "markdown",
   "metadata": {},
   "source": [
    ">exploring the game dataset which contains the country, league and match tables"
   ]
  },
  {
   "cell_type": "code",
   "execution_count": 49,
   "metadata": {},
   "outputs": [
    {
     "data": {
      "text/plain": [
       "(11, 10)"
      ]
     },
     "execution_count": 49,
     "metadata": {},
     "output_type": "execute_result"
    }
   ],
   "source": [
    "game.shape"
   ]
  },
  {
   "cell_type": "code",
   "execution_count": 47,
   "metadata": {},
   "outputs": [
    {
     "data": {
      "text/html": [
       "<div>\n",
       "<style scoped>\n",
       "    .dataframe tbody tr th:only-of-type {\n",
       "        vertical-align: middle;\n",
       "    }\n",
       "\n",
       "    .dataframe tbody tr th {\n",
       "        vertical-align: top;\n",
       "    }\n",
       "\n",
       "    .dataframe thead th {\n",
       "        text-align: right;\n",
       "    }\n",
       "</style>\n",
       "<table border=\"1\" class=\"dataframe\">\n",
       "  <thead>\n",
       "    <tr style=\"text-align: right;\">\n",
       "      <th></th>\n",
       "      <th>name</th>\n",
       "      <th>id</th>\n",
       "      <th>season</th>\n",
       "      <th>stage</th>\n",
       "      <th>date</th>\n",
       "      <th>match_api_id</th>\n",
       "      <th>home_team_api_id</th>\n",
       "      <th>away_team_api_id</th>\n",
       "      <th>home_team_goal</th>\n",
       "    </tr>\n",
       "  </thead>\n",
       "  <tbody>\n",
       "    <tr>\n",
       "      <th>0</th>\n",
       "      <td>Belgium Jupiler League</td>\n",
       "      <td>1</td>\n",
       "      <td>2008/2009</td>\n",
       "      <td>1</td>\n",
       "      <td>2008-08-17 00:00:00</td>\n",
       "      <td>492473</td>\n",
       "      <td>9987</td>\n",
       "      <td>9993</td>\n",
       "      <td>1</td>\n",
       "    </tr>\n",
       "    <tr>\n",
       "      <th>1</th>\n",
       "      <td>England Premier League</td>\n",
       "      <td>1729</td>\n",
       "      <td>2008/2009</td>\n",
       "      <td>1</td>\n",
       "      <td>2008-08-17 00:00:00</td>\n",
       "      <td>489042</td>\n",
       "      <td>10260</td>\n",
       "      <td>10261</td>\n",
       "      <td>1</td>\n",
       "    </tr>\n",
       "    <tr>\n",
       "      <th>2</th>\n",
       "      <td>France Ligue 1</td>\n",
       "      <td>4769</td>\n",
       "      <td>2008/2009</td>\n",
       "      <td>1</td>\n",
       "      <td>2008-08-09 00:00:00</td>\n",
       "      <td>483129</td>\n",
       "      <td>8583</td>\n",
       "      <td>9830</td>\n",
       "      <td>2</td>\n",
       "    </tr>\n",
       "    <tr>\n",
       "      <th>3</th>\n",
       "      <td>Germany 1. Bundesliga</td>\n",
       "      <td>7809</td>\n",
       "      <td>2008/2009</td>\n",
       "      <td>1</td>\n",
       "      <td>2008-08-15 00:00:00</td>\n",
       "      <td>499317</td>\n",
       "      <td>9823</td>\n",
       "      <td>9790</td>\n",
       "      <td>2</td>\n",
       "    </tr>\n",
       "    <tr>\n",
       "      <th>4</th>\n",
       "      <td>Italy Serie A</td>\n",
       "      <td>10257</td>\n",
       "      <td>2008/2009</td>\n",
       "      <td>1</td>\n",
       "      <td>2008-08-31 00:00:00</td>\n",
       "      <td>537632</td>\n",
       "      <td>8524</td>\n",
       "      <td>8551</td>\n",
       "      <td>1</td>\n",
       "    </tr>\n",
       "  </tbody>\n",
       "</table>\n",
       "</div>"
      ],
      "text/plain": [
       "                     name     id     season  stage                 date  \\\n",
       "0  Belgium Jupiler League      1  2008/2009      1  2008-08-17 00:00:00   \n",
       "1  England Premier League   1729  2008/2009      1  2008-08-17 00:00:00   \n",
       "2          France Ligue 1   4769  2008/2009      1  2008-08-09 00:00:00   \n",
       "3   Germany 1. Bundesliga   7809  2008/2009      1  2008-08-15 00:00:00   \n",
       "4           Italy Serie A  10257  2008/2009      1  2008-08-31 00:00:00   \n",
       "\n",
       "   match_api_id  home_team_api_id  away_team_api_id  home_team_goal  \n",
       "0        492473              9987              9993               1  \n",
       "1        489042             10260             10261               1  \n",
       "2        483129              8583              9830               2  \n",
       "3        499317              9823              9790               2  \n",
       "4        537632              8524              8551               1  "
      ]
     },
     "execution_count": 47,
     "metadata": {},
     "output_type": "execute_result"
    }
   ],
   "source": [
    "game.head(5)"
   ]
  },
  {
   "cell_type": "code",
   "execution_count": 67,
   "metadata": {},
   "outputs": [
    {
     "name": "stdout",
     "output_type": "stream",
     "text": [
      "<class 'pandas.core.frame.DataFrame'>\n",
      "RangeIndex: 11 entries, 0 to 10\n",
      "Data columns (total 10 columns):\n",
      " #   Column            Non-Null Count  Dtype \n",
      "---  ------            --------------  ----- \n",
      " 0   name              11 non-null     object\n",
      " 1   name              11 non-null     object\n",
      " 2   id                11 non-null     int64 \n",
      " 3   season            11 non-null     object\n",
      " 4   stage             11 non-null     int64 \n",
      " 5   date              11 non-null     object\n",
      " 6   match_api_id      11 non-null     int64 \n",
      " 7   home_team_api_id  11 non-null     int64 \n",
      " 8   away_team_api_id  11 non-null     int64 \n",
      " 9   home_team_goal    11 non-null     int64 \n",
      "dtypes: int64(6), object(4)\n",
      "memory usage: 1008.0+ bytes\n"
     ]
    }
   ],
   "source": [
    "game.info()"
   ]
  },
  {
   "cell_type": "markdown",
   "metadata": {},
   "source": [
    "> date needs to be changed to datetime"
   ]
  },
  {
   "cell_type": "markdown",
   "metadata": {},
   "source": [
    ">exploring team data which contains team and team attributes"
   ]
  },
  {
   "cell_type": "code",
   "execution_count": 65,
   "metadata": {},
   "outputs": [
    {
     "name": "stdout",
     "output_type": "stream",
     "text": [
      "<class 'pandas.core.frame.DataFrame'>\n",
      "RangeIndex: 21 entries, 0 to 20\n",
      "Data columns (total 10 columns):\n",
      " #   Column                     Non-Null Count  Dtype  \n",
      "---  ------                     --------------  -----  \n",
      " 0   team_api_id                21 non-null     int64  \n",
      " 1   team_fifa_api_id           19 non-null     float64\n",
      " 2   team_long_name             21 non-null     object \n",
      " 3   team_short_name            21 non-null     object \n",
      " 4   buildUpPlaySpeed           21 non-null     int64  \n",
      " 5   buildUpPlaySpeedClass      21 non-null     object \n",
      " 6   buildUpPlayDribbling       7 non-null      float64\n",
      " 7   buildUpPlayDribblingClass  21 non-null     object \n",
      " 8   buildUpPlayPassing         21 non-null     int64  \n",
      " 9   buildUpPlayPassingClass    21 non-null     object \n",
      "dtypes: float64(2), int64(3), object(5)\n",
      "memory usage: 1.8+ KB\n"
     ]
    }
   ],
   "source": [
    "team.info()"
   ]
  },
  {
   "cell_type": "code",
   "execution_count": 71,
   "metadata": {},
   "outputs": [],
   "source": [
    "mean = team['buildUpPlayDribbling'].mean\n",
    "team['buildUpPlayDribbling'].fillna(mean, inplace = True)\n"
   ]
  },
  {
   "cell_type": "code",
   "execution_count": 72,
   "metadata": {},
   "outputs": [
    {
     "name": "stdout",
     "output_type": "stream",
     "text": [
      "<class 'pandas.core.frame.DataFrame'>\n",
      "RangeIndex: 21 entries, 0 to 20\n",
      "Data columns (total 10 columns):\n",
      " #   Column                     Non-Null Count  Dtype  \n",
      "---  ------                     --------------  -----  \n",
      " 0   team_api_id                21 non-null     int64  \n",
      " 1   team_fifa_api_id           19 non-null     float64\n",
      " 2   team_long_name             21 non-null     object \n",
      " 3   team_short_name            21 non-null     object \n",
      " 4   buildUpPlaySpeed           21 non-null     int64  \n",
      " 5   buildUpPlaySpeedClass      21 non-null     object \n",
      " 6   buildUpPlayDribbling       21 non-null     object \n",
      " 7   buildUpPlayDribblingClass  21 non-null     object \n",
      " 8   buildUpPlayPassing         21 non-null     int64  \n",
      " 9   buildUpPlayPassingClass    21 non-null     object \n",
      "dtypes: float64(1), int64(3), object(6)\n",
      "memory usage: 1.8+ KB\n"
     ]
    }
   ],
   "source": [
    "team.info()"
   ]
  },
  {
   "cell_type": "code",
   "execution_count": 40,
   "metadata": {},
   "outputs": [
    {
     "data": {
      "text/html": [
       "<div>\n",
       "<style scoped>\n",
       "    .dataframe tbody tr th:only-of-type {\n",
       "        vertical-align: middle;\n",
       "    }\n",
       "\n",
       "    .dataframe tbody tr th {\n",
       "        vertical-align: top;\n",
       "    }\n",
       "\n",
       "    .dataframe thead th {\n",
       "        text-align: right;\n",
       "    }\n",
       "</style>\n",
       "<table border=\"1\" class=\"dataframe\">\n",
       "  <thead>\n",
       "    <tr style=\"text-align: right;\">\n",
       "      <th></th>\n",
       "      <th>team_api_id</th>\n",
       "      <th>team_fifa_api_id</th>\n",
       "      <th>team_long_name</th>\n",
       "      <th>team_short_name</th>\n",
       "      <th>buildUpPlaySpeed</th>\n",
       "      <th>buildUpPlaySpeedClass</th>\n",
       "      <th>buildUpPlayDribbling</th>\n",
       "      <th>buildUpPlayDribblingClass</th>\n",
       "      <th>buildUpPlayPassing</th>\n",
       "      <th>buildUpPlayPassingClass</th>\n",
       "    </tr>\n",
       "  </thead>\n",
       "  <tbody>\n",
       "    <tr>\n",
       "      <th>0</th>\n",
       "      <td>9987</td>\n",
       "      <td>673.0</td>\n",
       "      <td>KRC Genk</td>\n",
       "      <td>GEN</td>\n",
       "      <td>60</td>\n",
       "      <td>Balanced</td>\n",
       "      <td>NaN</td>\n",
       "      <td>Little</td>\n",
       "      <td>50</td>\n",
       "      <td>Mixed</td>\n",
       "    </tr>\n",
       "    <tr>\n",
       "      <th>1</th>\n",
       "      <td>9993</td>\n",
       "      <td>675.0</td>\n",
       "      <td>Beerschot AC</td>\n",
       "      <td>BAC</td>\n",
       "      <td>52</td>\n",
       "      <td>Balanced</td>\n",
       "      <td>48.0</td>\n",
       "      <td>Normal</td>\n",
       "      <td>56</td>\n",
       "      <td>Mixed</td>\n",
       "    </tr>\n",
       "    <tr>\n",
       "      <th>2</th>\n",
       "      <td>10000</td>\n",
       "      <td>15005.0</td>\n",
       "      <td>SV Zulte-Waregem</td>\n",
       "      <td>ZUL</td>\n",
       "      <td>47</td>\n",
       "      <td>Balanced</td>\n",
       "      <td>41.0</td>\n",
       "      <td>Normal</td>\n",
       "      <td>54</td>\n",
       "      <td>Mixed</td>\n",
       "    </tr>\n",
       "    <tr>\n",
       "      <th>3</th>\n",
       "      <td>9994</td>\n",
       "      <td>2007.0</td>\n",
       "      <td>Sporting Lokeren</td>\n",
       "      <td>LOK</td>\n",
       "      <td>70</td>\n",
       "      <td>Fast</td>\n",
       "      <td>NaN</td>\n",
       "      <td>Little</td>\n",
       "      <td>70</td>\n",
       "      <td>Long</td>\n",
       "    </tr>\n",
       "    <tr>\n",
       "      <th>4</th>\n",
       "      <td>9984</td>\n",
       "      <td>1750.0</td>\n",
       "      <td>KSV Cercle Brugge</td>\n",
       "      <td>CEB</td>\n",
       "      <td>47</td>\n",
       "      <td>Balanced</td>\n",
       "      <td>NaN</td>\n",
       "      <td>Little</td>\n",
       "      <td>52</td>\n",
       "      <td>Mixed</td>\n",
       "    </tr>\n",
       "  </tbody>\n",
       "</table>\n",
       "</div>"
      ],
      "text/plain": [
       "   team_api_id  team_fifa_api_id     team_long_name team_short_name  \\\n",
       "0         9987             673.0           KRC Genk             GEN   \n",
       "1         9993             675.0       Beerschot AC             BAC   \n",
       "2        10000           15005.0   SV Zulte-Waregem             ZUL   \n",
       "3         9994            2007.0   Sporting Lokeren             LOK   \n",
       "4         9984            1750.0  KSV Cercle Brugge             CEB   \n",
       "\n",
       "   buildUpPlaySpeed buildUpPlaySpeedClass  buildUpPlayDribbling  \\\n",
       "0                60              Balanced                   NaN   \n",
       "1                52              Balanced                  48.0   \n",
       "2                47              Balanced                  41.0   \n",
       "3                70                  Fast                   NaN   \n",
       "4                47              Balanced                   NaN   \n",
       "\n",
       "  buildUpPlayDribblingClass  buildUpPlayPassing buildUpPlayPassingClass  \n",
       "0                    Little                  50                   Mixed  \n",
       "1                    Normal                  56                   Mixed  \n",
       "2                    Normal                  54                   Mixed  \n",
       "3                    Little                  70                    Long  \n",
       "4                    Little                  52                   Mixed  "
      ]
     },
     "execution_count": 40,
     "metadata": {},
     "output_type": "execute_result"
    }
   ],
   "source": [
    "team.head(5)"
   ]
  },
  {
   "cell_type": "markdown",
   "metadata": {},
   "source": [
    ">exploring player data which contains player and player attributes tables"
   ]
  },
  {
   "cell_type": "code",
   "execution_count": 42,
   "metadata": {},
   "outputs": [
    {
     "data": {
      "text/plain": [
       "(11060, 40)"
      ]
     },
     "execution_count": 42,
     "metadata": {},
     "output_type": "execute_result"
    }
   ],
   "source": [
    "play.shape"
   ]
  },
  {
   "cell_type": "code",
   "execution_count": 64,
   "metadata": {},
   "outputs": [
    {
     "data": {
      "text/plain": [
       "0        False\n",
       "1        False\n",
       "2        False\n",
       "3        False\n",
       "4        False\n",
       "         ...  \n",
       "11055    False\n",
       "11056    False\n",
       "11057    False\n",
       "11058    False\n",
       "11059    False\n",
       "Length: 11060, dtype: bool"
      ]
     },
     "execution_count": 64,
     "metadata": {},
     "output_type": "execute_result"
    }
   ],
   "source": [
    "play.duplicated()"
   ]
  },
  {
   "cell_type": "code",
   "execution_count": 63,
   "metadata": {},
   "outputs": [
    {
     "name": "stdout",
     "output_type": "stream",
     "text": [
      "<class 'pandas.core.frame.DataFrame'>\n",
      "RangeIndex: 11060 entries, 0 to 11059\n",
      "Data columns (total 40 columns):\n",
      " #   Column               Non-Null Count  Dtype  \n",
      "---  ------               --------------  -----  \n",
      " 0   player_api_id        11060 non-null  int64  \n",
      " 1   player_name          11060 non-null  object \n",
      " 2   player_fifa_api_id   11060 non-null  int64  \n",
      " 3   birthday             11060 non-null  object \n",
      " 4   height               11060 non-null  float64\n",
      " 5   weight               11060 non-null  int64  \n",
      " 6   date                 11060 non-null  object \n",
      " 7   overall_rating       11021 non-null  float64\n",
      " 8   potential            11021 non-null  float64\n",
      " 9   preferred_foot       11021 non-null  object \n",
      " 10  attacking_work_rate  10897 non-null  object \n",
      " 11  defensive_work_rate  11021 non-null  object \n",
      " 12  crossing             11021 non-null  float64\n",
      " 13  finishing            11021 non-null  float64\n",
      " 14  heading_accuracy     11021 non-null  float64\n",
      " 15  short_passing        11021 non-null  float64\n",
      " 16  volleys              10935 non-null  float64\n",
      " 17  dribbling            11021 non-null  float64\n",
      " 18  curve                10935 non-null  float64\n",
      " 19  free_kick_accuracy   11021 non-null  float64\n",
      " 20  long_passing         11021 non-null  float64\n",
      " 21  ball_control         11021 non-null  float64\n",
      " 22  acceleration         11021 non-null  float64\n",
      " 23  sprint_speed         11021 non-null  float64\n",
      " 24  agility              10935 non-null  float64\n",
      " 25  reactions            11021 non-null  float64\n",
      " 26  balance              10935 non-null  float64\n",
      " 27  shot_power           11021 non-null  float64\n",
      " 28  jumping              10935 non-null  float64\n",
      " 29  stamina              11021 non-null  float64\n",
      " 30  strength             11021 non-null  float64\n",
      " 31  long_shots           11021 non-null  float64\n",
      " 32  aggression           11021 non-null  float64\n",
      " 33  interceptions        11021 non-null  float64\n",
      " 34  positioning          11021 non-null  float64\n",
      " 35  vision               10935 non-null  float64\n",
      " 36  penalties            11021 non-null  float64\n",
      " 37  marking              11021 non-null  float64\n",
      " 38  standing_tackle      11021 non-null  float64\n",
      " 39  sliding_tackle       10935 non-null  float64\n",
      "dtypes: float64(31), int64(3), object(6)\n",
      "memory usage: 3.4+ MB\n"
     ]
    }
   ],
   "source": [
    "play.info()\n"
   ]
  },
  {
   "cell_type": "code",
   "execution_count": 76,
   "metadata": {},
   "outputs": [],
   "source": [
    "pl_mean = play['overall_rating'].mean()\n",
    "play['overall_rating'].fillna(pl_mean, inplace= True)\n",
    "pt_mean = play['potential'].mean()\n",
    "play['potential'].fillna(pt_mean, inplace= True)"
   ]
  },
  {
   "cell_type": "code",
   "execution_count": 77,
   "metadata": {
    "scrolled": true
   },
   "outputs": [
    {
     "name": "stdout",
     "output_type": "stream",
     "text": [
      "<class 'pandas.core.frame.DataFrame'>\n",
      "RangeIndex: 11060 entries, 0 to 11059\n",
      "Data columns (total 40 columns):\n",
      " #   Column               Non-Null Count  Dtype  \n",
      "---  ------               --------------  -----  \n",
      " 0   player_api_id        11060 non-null  int64  \n",
      " 1   player_name          11060 non-null  object \n",
      " 2   player_fifa_api_id   11060 non-null  int64  \n",
      " 3   birthday             11060 non-null  object \n",
      " 4   height               11060 non-null  float64\n",
      " 5   weight               11060 non-null  int64  \n",
      " 6   date                 11060 non-null  object \n",
      " 7   overall_rating       11060 non-null  float64\n",
      " 8   potential            11060 non-null  float64\n",
      " 9   preferred_foot       11021 non-null  object \n",
      " 10  attacking_work_rate  10897 non-null  object \n",
      " 11  defensive_work_rate  11021 non-null  object \n",
      " 12  crossing             11021 non-null  float64\n",
      " 13  finishing            11021 non-null  float64\n",
      " 14  heading_accuracy     11021 non-null  float64\n",
      " 15  short_passing        11021 non-null  float64\n",
      " 16  volleys              10935 non-null  float64\n",
      " 17  dribbling            11021 non-null  float64\n",
      " 18  curve                10935 non-null  float64\n",
      " 19  free_kick_accuracy   11021 non-null  float64\n",
      " 20  long_passing         11021 non-null  float64\n",
      " 21  ball_control         11021 non-null  float64\n",
      " 22  acceleration         11021 non-null  float64\n",
      " 23  sprint_speed         11021 non-null  float64\n",
      " 24  agility              10935 non-null  float64\n",
      " 25  reactions            11021 non-null  float64\n",
      " 26  balance              10935 non-null  float64\n",
      " 27  shot_power           11021 non-null  float64\n",
      " 28  jumping              10935 non-null  float64\n",
      " 29  stamina              11021 non-null  float64\n",
      " 30  strength             11021 non-null  float64\n",
      " 31  long_shots           11021 non-null  float64\n",
      " 32  aggression           11021 non-null  float64\n",
      " 33  interceptions        11021 non-null  float64\n",
      " 34  positioning          11021 non-null  float64\n",
      " 35  vision               10935 non-null  float64\n",
      " 36  penalties            11021 non-null  float64\n",
      " 37  marking              11021 non-null  float64\n",
      " 38  standing_tackle      11021 non-null  float64\n",
      " 39  sliding_tackle       10935 non-null  float64\n",
      "dtypes: float64(31), int64(3), object(6)\n",
      "memory usage: 3.4+ MB\n"
     ]
    }
   ],
   "source": [
    "play.info()\n"
   ]
  },
  {
   "cell_type": "code",
   "execution_count": 78,
   "metadata": {
    "scrolled": true
   },
   "outputs": [],
   "source": [
    "# After discussing the structure of the data and any problems that need to be\n",
    "#   cleaned, perform those cleaning steps in the second part of this section.\n",
    "dframes = [play, team, game]\n",
    "\n"
   ]
  },
  {
   "cell_type": "code",
   "execution_count": null,
   "metadata": {},
   "outputs": [],
   "source": []
  },
  {
   "cell_type": "markdown",
   "metadata": {},
   "source": [
    "<a id='eda'></a>\n",
    "## Exploratory Data Analysis\n",
    "\n",
    "> **Tip**: Now that you've trimmed and cleaned your data, you're ready to move on to exploration. Compute statistics and create visualizations with the goal of addressing the research questions that you posed in the Introduction section. It is recommended that you be systematic with your approach. Look at one variable at a time, and then follow it up by looking at relationships between variables.\n",
    "\n",
    "### Research Question 1 (Replace this header name!)"
   ]
  },
  {
   "cell_type": "code",
   "execution_count": null,
   "metadata": {
    "collapsed": true
   },
   "outputs": [],
   "source": [
    "# Use this, and more code cells, to explore your data. Don't forget to add\n",
    "#   Markdown cells to document your observations and findings.\n"
   ]
  },
  {
   "cell_type": "code",
   "execution_count": null,
   "metadata": {},
   "outputs": [],
   "source": []
  },
  {
   "cell_type": "code",
   "execution_count": null,
   "metadata": {},
   "outputs": [],
   "source": []
  },
  {
   "cell_type": "code",
   "execution_count": null,
   "metadata": {},
   "outputs": [],
   "source": []
  },
  {
   "cell_type": "markdown",
   "metadata": {},
   "source": [
    "### Research Question 2  (Replace this header name!)"
   ]
  },
  {
   "cell_type": "code",
   "execution_count": null,
   "metadata": {
    "collapsed": true
   },
   "outputs": [],
   "source": [
    "# Continue to explore the data to address your additional research\n",
    "#   questions. Add more headers as needed if you have more questions to\n",
    "#   investigate.\n"
   ]
  },
  {
   "cell_type": "markdown",
   "metadata": {},
   "source": [
    "<a id='conclusions'></a>\n",
    "## Conclusions\n",
    "\n",
    "> **Tip**: Finally, summarize your findings and the results that have been performed. Make sure that you are clear with regards to the limitations of your exploration. If you haven't done any statistical tests, do not imply any statistical conclusions. And make sure you avoid implying causation from correlation!\n",
    "\n",
    "> **Tip**: Once you are satisfied with your work, you should save a copy of the report in HTML or PDF form via the **File** > **Download as** submenu. Before exporting your report, check over it to make sure that the flow of the report is complete. You should probably remove all of the \"Tip\" quotes like this one so that the presentation is as tidy as possible. Congratulations!"
   ]
  },
  {
   "cell_type": "code",
   "execution_count": null,
   "metadata": {
    "collapsed": true
   },
   "outputs": [],
   "source": []
  }
 ],
 "metadata": {
  "kernelspec": {
   "display_name": "Python 3",
   "language": "python",
   "name": "python3"
  },
  "language_info": {
   "codemirror_mode": {
    "name": "ipython",
    "version": 3
   },
   "file_extension": ".py",
   "mimetype": "text/x-python",
   "name": "python",
   "nbconvert_exporter": "python",
   "pygments_lexer": "ipython3",
   "version": "3.8.5"
  }
 },
 "nbformat": 4,
 "nbformat_minor": 2
}
