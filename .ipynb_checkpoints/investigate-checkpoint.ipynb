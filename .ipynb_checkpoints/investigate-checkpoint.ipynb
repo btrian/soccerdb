{
 "cells": [
  {
   "cell_type": "markdown",
   "metadata": {},
   "source": [
    "### How are sprint speed, height and acceleration related?\n",
    " The dataset of interest is the kaggle soccer dataset"
   ]
  },
  {
   "cell_type": "markdown",
   "metadata": {},
   "source": [
    ">getting the data and initial wrangling"
   ]
  },
  {
   "cell_type": "code",
   "execution_count": 2,
   "metadata": {},
   "outputs": [],
   "source": [
    "# importing important libraries\n",
    "import pandas as pd\n",
    "import sqlite3\n",
    "import numpy as np\n",
    "import matplotlib.pyplot as plt\n",
    "%matplotlib inline\n",
    "import seaborn as sns\n",
    "import sys\n",
    "sys.setrecursionlimit(1000000)\n",
    "\n"
   ]
  },
  {
   "cell_type": "code",
   "execution_count": 3,
   "metadata": {},
   "outputs": [],
   "source": [
    "# extracting the dataset\n",
    "cnt = sqlite3.connect('database.sqlite')\n",
    "game_query = \"\"\"\n",
    "SELECT cy.name, lg.name , lg.id, mt.season, mt.stage, mt.date, mt.match_api_id, mt.home_team_api_id, \n",
    "mt.away_team_api_id,mt.home_team_goal\n",
    "FROM country cy\n",
    " JOIN league lg ON cy.id =lg.id\n",
    " JOIN match mt ON mt.id = lg.id \"\"\"\n",
    " \n",
    "team_query = \"\"\"SELECT tm.team_api_id, tm.team_fifa_api_id, tm.team_long_name,\n",
    "tm.team_short_name, tm_at.buildUpPlaySpeed, tm_at.buildUpPlaySpeedClass, tm_at.buildUpPlayDribbling, \n",
    "tm_at.buildUpPlayDribblingClass, tm_at.buildUpPlayPassing, tm_at.buildUpPlayPassingClass \n",
    "FROM team tm \n",
    "JOIN team_Attributes tm_at ON tm.id = tm_at.id\"\"\"\n",
    "\n",
    "player_query = \"\"\"\n",
    "SELECT py.player_api_id, py.player_fifa_api_id,\n",
    "py.height, py.weight, py_at.overall_rating, py_at.potential, py_at.crossing, py_at.finishing, py_at.heading_accuracy, py_at.short_passing, py_at.volleys,\n",
    "py_at.dribbling, py_at.curve ,py_at.free_kick_accuracy, py_at.long_passing, py_at.ball_control, py_at.acceleration, \n",
    "py_at.sprint_speed,py_at.reactions, py_at.balance, py_at.shot_power, py_at.stamina, \n",
    "py_at.strength, py_at.long_shots, py_at.aggression , py_at.positioning, py_at.penalties,\n",
    "py_at.marking, py_at.standing_tackle, py_at.sliding_tackle\n",
    "FROM player py\n",
    "JOIN player_Attributes py_at ON py.id = py_at.id\n",
    "\"\"\"\n",
    "game = pd.read_sql_query(game_query, cnt)\n",
    "team =pd.read_sql_query(team_query, cnt)\n",
    "play =pd.read_sql_query(player_query, cnt)"
   ]
  },
  {
   "cell_type": "code",
   "execution_count": 4,
   "metadata": {
    "scrolled": true
   },
   "outputs": [
    {
     "name": "stdout",
     "output_type": "stream",
     "text": [
      "<class 'pandas.core.frame.DataFrame'>\n",
      "RangeIndex: 11060 entries, 0 to 11059\n",
      "Data columns (total 30 columns):\n",
      " #   Column              Non-Null Count  Dtype  \n",
      "---  ------              --------------  -----  \n",
      " 0   player_api_id       11060 non-null  int64  \n",
      " 1   player_fifa_api_id  11060 non-null  int64  \n",
      " 2   height              11060 non-null  float64\n",
      " 3   weight              11060 non-null  int64  \n",
      " 4   overall_rating      11021 non-null  float64\n",
      " 5   potential           11021 non-null  float64\n",
      " 6   crossing            11021 non-null  float64\n",
      " 7   finishing           11021 non-null  float64\n",
      " 8   heading_accuracy    11021 non-null  float64\n",
      " 9   short_passing       11021 non-null  float64\n",
      " 10  volleys             10935 non-null  float64\n",
      " 11  dribbling           11021 non-null  float64\n",
      " 12  curve               10935 non-null  float64\n",
      " 13  free_kick_accuracy  11021 non-null  float64\n",
      " 14  long_passing        11021 non-null  float64\n",
      " 15  ball_control        11021 non-null  float64\n",
      " 16  acceleration        11021 non-null  float64\n",
      " 17  sprint_speed        11021 non-null  float64\n",
      " 18  reactions           11021 non-null  float64\n",
      " 19  balance             10935 non-null  float64\n",
      " 20  shot_power          11021 non-null  float64\n",
      " 21  stamina             11021 non-null  float64\n",
      " 22  strength            11021 non-null  float64\n",
      " 23  long_shots          11021 non-null  float64\n",
      " 24  aggression          11021 non-null  float64\n",
      " 25  positioning         11021 non-null  float64\n",
      " 26  penalties           11021 non-null  float64\n",
      " 27  marking             11021 non-null  float64\n",
      " 28  standing_tackle     11021 non-null  float64\n",
      " 29  sliding_tackle      10935 non-null  float64\n",
      "dtypes: float64(27), int64(3)\n",
      "memory usage: 2.5 MB\n"
     ]
    }
   ],
   "source": [
    "#exploring the dataset\n",
    "play.info()\n"
   ]
  },
  {
   "cell_type": "code",
   "execution_count": 5,
   "metadata": {},
   "outputs": [
    {
     "data": {
      "text/plain": [
       "(11060, 30)"
      ]
     },
     "execution_count": 5,
     "metadata": {},
     "output_type": "execute_result"
    }
   ],
   "source": [
    "play.shape"
   ]
  },
  {
   "cell_type": "code",
   "execution_count": 6,
   "metadata": {},
   "outputs": [
    {
     "name": "stdout",
     "output_type": "stream",
     "text": [
      "<class 'pandas.core.frame.DataFrame'>\n",
      "RangeIndex: 21 entries, 0 to 20\n",
      "Data columns (total 10 columns):\n",
      " #   Column                     Non-Null Count  Dtype  \n",
      "---  ------                     --------------  -----  \n",
      " 0   team_api_id                21 non-null     int64  \n",
      " 1   team_fifa_api_id           19 non-null     float64\n",
      " 2   team_long_name             21 non-null     object \n",
      " 3   team_short_name            21 non-null     object \n",
      " 4   buildUpPlaySpeed           21 non-null     int64  \n",
      " 5   buildUpPlaySpeedClass      21 non-null     object \n",
      " 6   buildUpPlayDribbling       7 non-null      float64\n",
      " 7   buildUpPlayDribblingClass  21 non-null     object \n",
      " 8   buildUpPlayPassing         21 non-null     int64  \n",
      " 9   buildUpPlayPassingClass    21 non-null     object \n",
      "dtypes: float64(2), int64(3), object(5)\n",
      "memory usage: 1.8+ KB\n"
     ]
    }
   ],
   "source": [
    "team.info()\n",
    "#team needs to replace missing values"
   ]
  },
  {
   "cell_type": "code",
   "execution_count": 7,
   "metadata": {},
   "outputs": [
    {
     "data": {
      "text/html": [
       "<div>\n",
       "<style scoped>\n",
       "    .dataframe tbody tr th:only-of-type {\n",
       "        vertical-align: middle;\n",
       "    }\n",
       "\n",
       "    .dataframe tbody tr th {\n",
       "        vertical-align: top;\n",
       "    }\n",
       "\n",
       "    .dataframe thead th {\n",
       "        text-align: right;\n",
       "    }\n",
       "</style>\n",
       "<table border=\"1\" class=\"dataframe\">\n",
       "  <thead>\n",
       "    <tr style=\"text-align: right;\">\n",
       "      <th></th>\n",
       "      <th>team_api_id</th>\n",
       "      <th>team_fifa_api_id</th>\n",
       "      <th>team_long_name</th>\n",
       "      <th>team_short_name</th>\n",
       "      <th>buildUpPlaySpeed</th>\n",
       "      <th>buildUpPlaySpeedClass</th>\n",
       "      <th>buildUpPlayDribbling</th>\n",
       "      <th>buildUpPlayDribblingClass</th>\n",
       "      <th>buildUpPlayPassing</th>\n",
       "      <th>buildUpPlayPassingClass</th>\n",
       "    </tr>\n",
       "  </thead>\n",
       "  <tbody>\n",
       "    <tr>\n",
       "      <th>0</th>\n",
       "      <td>9987</td>\n",
       "      <td>673.0</td>\n",
       "      <td>KRC Genk</td>\n",
       "      <td>GEN</td>\n",
       "      <td>60</td>\n",
       "      <td>Balanced</td>\n",
       "      <td>NaN</td>\n",
       "      <td>Little</td>\n",
       "      <td>50</td>\n",
       "      <td>Mixed</td>\n",
       "    </tr>\n",
       "    <tr>\n",
       "      <th>1</th>\n",
       "      <td>9993</td>\n",
       "      <td>675.0</td>\n",
       "      <td>Beerschot AC</td>\n",
       "      <td>BAC</td>\n",
       "      <td>52</td>\n",
       "      <td>Balanced</td>\n",
       "      <td>48.0</td>\n",
       "      <td>Normal</td>\n",
       "      <td>56</td>\n",
       "      <td>Mixed</td>\n",
       "    </tr>\n",
       "    <tr>\n",
       "      <th>2</th>\n",
       "      <td>10000</td>\n",
       "      <td>15005.0</td>\n",
       "      <td>SV Zulte-Waregem</td>\n",
       "      <td>ZUL</td>\n",
       "      <td>47</td>\n",
       "      <td>Balanced</td>\n",
       "      <td>41.0</td>\n",
       "      <td>Normal</td>\n",
       "      <td>54</td>\n",
       "      <td>Mixed</td>\n",
       "    </tr>\n",
       "    <tr>\n",
       "      <th>3</th>\n",
       "      <td>9994</td>\n",
       "      <td>2007.0</td>\n",
       "      <td>Sporting Lokeren</td>\n",
       "      <td>LOK</td>\n",
       "      <td>70</td>\n",
       "      <td>Fast</td>\n",
       "      <td>NaN</td>\n",
       "      <td>Little</td>\n",
       "      <td>70</td>\n",
       "      <td>Long</td>\n",
       "    </tr>\n",
       "    <tr>\n",
       "      <th>4</th>\n",
       "      <td>9984</td>\n",
       "      <td>1750.0</td>\n",
       "      <td>KSV Cercle Brugge</td>\n",
       "      <td>CEB</td>\n",
       "      <td>47</td>\n",
       "      <td>Balanced</td>\n",
       "      <td>NaN</td>\n",
       "      <td>Little</td>\n",
       "      <td>52</td>\n",
       "      <td>Mixed</td>\n",
       "    </tr>\n",
       "  </tbody>\n",
       "</table>\n",
       "</div>"
      ],
      "text/plain": [
       "   team_api_id  team_fifa_api_id     team_long_name team_short_name  \\\n",
       "0         9987             673.0           KRC Genk             GEN   \n",
       "1         9993             675.0       Beerschot AC             BAC   \n",
       "2        10000           15005.0   SV Zulte-Waregem             ZUL   \n",
       "3         9994            2007.0   Sporting Lokeren             LOK   \n",
       "4         9984            1750.0  KSV Cercle Brugge             CEB   \n",
       "\n",
       "   buildUpPlaySpeed buildUpPlaySpeedClass  buildUpPlayDribbling  \\\n",
       "0                60              Balanced                   NaN   \n",
       "1                52              Balanced                  48.0   \n",
       "2                47              Balanced                  41.0   \n",
       "3                70                  Fast                   NaN   \n",
       "4                47              Balanced                   NaN   \n",
       "\n",
       "  buildUpPlayDribblingClass  buildUpPlayPassing buildUpPlayPassingClass  \n",
       "0                    Little                  50                   Mixed  \n",
       "1                    Normal                  56                   Mixed  \n",
       "2                    Normal                  54                   Mixed  \n",
       "3                    Little                  70                    Long  \n",
       "4                    Little                  52                   Mixed  "
      ]
     },
     "execution_count": 7,
     "metadata": {},
     "output_type": "execute_result"
    }
   ],
   "source": [
    "team.head()"
   ]
  },
  {
   "cell_type": "code",
   "execution_count": 8,
   "metadata": {},
   "outputs": [
    {
     "data": {
      "text/plain": [
       "(21, 10)"
      ]
     },
     "execution_count": 8,
     "metadata": {},
     "output_type": "execute_result"
    }
   ],
   "source": [
    "team.shape"
   ]
  },
  {
   "cell_type": "code",
   "execution_count": 9,
   "metadata": {},
   "outputs": [
    {
     "data": {
      "text/html": [
       "<div>\n",
       "<style scoped>\n",
       "    .dataframe tbody tr th:only-of-type {\n",
       "        vertical-align: middle;\n",
       "    }\n",
       "\n",
       "    .dataframe tbody tr th {\n",
       "        vertical-align: top;\n",
       "    }\n",
       "\n",
       "    .dataframe thead th {\n",
       "        text-align: right;\n",
       "    }\n",
       "</style>\n",
       "<table border=\"1\" class=\"dataframe\">\n",
       "  <thead>\n",
       "    <tr style=\"text-align: right;\">\n",
       "      <th></th>\n",
       "      <th>name</th>\n",
       "      <th>name</th>\n",
       "      <th>id</th>\n",
       "      <th>season</th>\n",
       "      <th>stage</th>\n",
       "      <th>date</th>\n",
       "      <th>match_api_id</th>\n",
       "      <th>home_team_api_id</th>\n",
       "      <th>away_team_api_id</th>\n",
       "      <th>home_team_goal</th>\n",
       "    </tr>\n",
       "  </thead>\n",
       "  <tbody>\n",
       "    <tr>\n",
       "      <th>0</th>\n",
       "      <td>Belgium</td>\n",
       "      <td>Belgium Jupiler League</td>\n",
       "      <td>1</td>\n",
       "      <td>2008/2009</td>\n",
       "      <td>1</td>\n",
       "      <td>2008-08-17 00:00:00</td>\n",
       "      <td>492473</td>\n",
       "      <td>9987</td>\n",
       "      <td>9993</td>\n",
       "      <td>1</td>\n",
       "    </tr>\n",
       "    <tr>\n",
       "      <th>1</th>\n",
       "      <td>England</td>\n",
       "      <td>England Premier League</td>\n",
       "      <td>1729</td>\n",
       "      <td>2008/2009</td>\n",
       "      <td>1</td>\n",
       "      <td>2008-08-17 00:00:00</td>\n",
       "      <td>489042</td>\n",
       "      <td>10260</td>\n",
       "      <td>10261</td>\n",
       "      <td>1</td>\n",
       "    </tr>\n",
       "    <tr>\n",
       "      <th>2</th>\n",
       "      <td>France</td>\n",
       "      <td>France Ligue 1</td>\n",
       "      <td>4769</td>\n",
       "      <td>2008/2009</td>\n",
       "      <td>1</td>\n",
       "      <td>2008-08-09 00:00:00</td>\n",
       "      <td>483129</td>\n",
       "      <td>8583</td>\n",
       "      <td>9830</td>\n",
       "      <td>2</td>\n",
       "    </tr>\n",
       "    <tr>\n",
       "      <th>3</th>\n",
       "      <td>Germany</td>\n",
       "      <td>Germany 1. Bundesliga</td>\n",
       "      <td>7809</td>\n",
       "      <td>2008/2009</td>\n",
       "      <td>1</td>\n",
       "      <td>2008-08-15 00:00:00</td>\n",
       "      <td>499317</td>\n",
       "      <td>9823</td>\n",
       "      <td>9790</td>\n",
       "      <td>2</td>\n",
       "    </tr>\n",
       "    <tr>\n",
       "      <th>4</th>\n",
       "      <td>Italy</td>\n",
       "      <td>Italy Serie A</td>\n",
       "      <td>10257</td>\n",
       "      <td>2008/2009</td>\n",
       "      <td>1</td>\n",
       "      <td>2008-08-31 00:00:00</td>\n",
       "      <td>537632</td>\n",
       "      <td>8524</td>\n",
       "      <td>8551</td>\n",
       "      <td>1</td>\n",
       "    </tr>\n",
       "  </tbody>\n",
       "</table>\n",
       "</div>"
      ],
      "text/plain": [
       "      name                    name     id     season  stage  \\\n",
       "0  Belgium  Belgium Jupiler League      1  2008/2009      1   \n",
       "1  England  England Premier League   1729  2008/2009      1   \n",
       "2   France          France Ligue 1   4769  2008/2009      1   \n",
       "3  Germany   Germany 1. Bundesliga   7809  2008/2009      1   \n",
       "4    Italy           Italy Serie A  10257  2008/2009      1   \n",
       "\n",
       "                  date  match_api_id  home_team_api_id  away_team_api_id  \\\n",
       "0  2008-08-17 00:00:00        492473              9987              9993   \n",
       "1  2008-08-17 00:00:00        489042             10260             10261   \n",
       "2  2008-08-09 00:00:00        483129              8583              9830   \n",
       "3  2008-08-15 00:00:00        499317              9823              9790   \n",
       "4  2008-08-31 00:00:00        537632              8524              8551   \n",
       "\n",
       "   home_team_goal  \n",
       "0               1  \n",
       "1               1  \n",
       "2               2  \n",
       "3               2  \n",
       "4               1  "
      ]
     },
     "execution_count": 9,
     "metadata": {},
     "output_type": "execute_result"
    }
   ],
   "source": [
    "game.head()"
   ]
  },
  {
   "cell_type": "code",
   "execution_count": 10,
   "metadata": {},
   "outputs": [
    {
     "data": {
      "text/plain": [
       "(11, 10)"
      ]
     },
     "execution_count": 10,
     "metadata": {},
     "output_type": "execute_result"
    }
   ],
   "source": [
    "game.shape"
   ]
  },
  {
   "cell_type": "code",
   "execution_count": 11,
   "metadata": {
    "scrolled": true
   },
   "outputs": [
    {
     "name": "stdout",
     "output_type": "stream",
     "text": [
      "<class 'pandas.core.frame.DataFrame'>\n",
      "RangeIndex: 11 entries, 0 to 10\n",
      "Data columns (total 10 columns):\n",
      " #   Column            Non-Null Count  Dtype \n",
      "---  ------            --------------  ----- \n",
      " 0   name              11 non-null     object\n",
      " 1   name              11 non-null     object\n",
      " 2   id                11 non-null     int64 \n",
      " 3   season            11 non-null     object\n",
      " 4   stage             11 non-null     int64 \n",
      " 5   date              11 non-null     object\n",
      " 6   match_api_id      11 non-null     int64 \n",
      " 7   home_team_api_id  11 non-null     int64 \n",
      " 8   away_team_api_id  11 non-null     int64 \n",
      " 9   home_team_goal    11 non-null     int64 \n",
      "dtypes: int64(6), object(4)\n",
      "memory usage: 1008.0+ bytes\n"
     ]
    }
   ],
   "source": [
    "game.info()"
   ]
  },
  {
   "cell_type": "markdown",
   "metadata": {},
   "source": [
    "       Fixing  missing values "
   ]
  },
  {
   "cell_type": "code",
   "execution_count": 12,
   "metadata": {},
   "outputs": [
    {
     "name": "stdout",
     "output_type": "stream",
     "text": [
      "<class 'pandas.core.frame.DataFrame'>\n",
      "RangeIndex: 21 entries, 0 to 20\n",
      "Data columns (total 10 columns):\n",
      " #   Column                     Non-Null Count  Dtype  \n",
      "---  ------                     --------------  -----  \n",
      " 0   team_api_id                21 non-null     int64  \n",
      " 1   team_fifa_api_id           19 non-null     float64\n",
      " 2   team_long_name             21 non-null     object \n",
      " 3   team_short_name            21 non-null     object \n",
      " 4   buildUpPlaySpeed           21 non-null     int64  \n",
      " 5   buildUpPlaySpeedClass      21 non-null     object \n",
      " 6   buildUpPlayDribbling       21 non-null     float64\n",
      " 7   buildUpPlayDribblingClass  21 non-null     object \n",
      " 8   buildUpPlayPassing         21 non-null     int64  \n",
      " 9   buildUpPlayPassingClass    21 non-null     object \n",
      "dtypes: float64(2), int64(3), object(5)\n",
      "memory usage: 1.8+ KB\n"
     ]
    }
   ],
   "source": [
    "mean_tm = team['buildUpPlayDribbling'].mean()\n",
    "team['buildUpPlayDribbling'].fillna(mean_tm, inplace = True)\n",
    "team.info()\n"
   ]
  },
  {
   "cell_type": "code",
   "execution_count": 13,
   "metadata": {
    "scrolled": false
   },
   "outputs": [
    {
     "data": {
      "text/html": [
       "<div>\n",
       "<style scoped>\n",
       "    .dataframe tbody tr th:only-of-type {\n",
       "        vertical-align: middle;\n",
       "    }\n",
       "\n",
       "    .dataframe tbody tr th {\n",
       "        vertical-align: top;\n",
       "    }\n",
       "\n",
       "    .dataframe thead th {\n",
       "        text-align: right;\n",
       "    }\n",
       "</style>\n",
       "<table border=\"1\" class=\"dataframe\">\n",
       "  <thead>\n",
       "    <tr style=\"text-align: right;\">\n",
       "      <th></th>\n",
       "      <th>team_api_id</th>\n",
       "      <th>team_fifa_api_id</th>\n",
       "      <th>team_long_name</th>\n",
       "      <th>team_short_name</th>\n",
       "      <th>buildUpPlaySpeed</th>\n",
       "      <th>buildUpPlaySpeedClass</th>\n",
       "      <th>buildUpPlayDribbling</th>\n",
       "      <th>buildUpPlayDribblingClass</th>\n",
       "      <th>buildUpPlayPassing</th>\n",
       "      <th>buildUpPlayPassingClass</th>\n",
       "    </tr>\n",
       "  </thead>\n",
       "  <tbody>\n",
       "    <tr>\n",
       "      <th>0</th>\n",
       "      <td>9987</td>\n",
       "      <td>673.0</td>\n",
       "      <td>KRC Genk</td>\n",
       "      <td>GEN</td>\n",
       "      <td>60</td>\n",
       "      <td>Balanced</td>\n",
       "      <td>52.428571</td>\n",
       "      <td>Little</td>\n",
       "      <td>50</td>\n",
       "      <td>Mixed</td>\n",
       "    </tr>\n",
       "    <tr>\n",
       "      <th>1</th>\n",
       "      <td>9993</td>\n",
       "      <td>675.0</td>\n",
       "      <td>Beerschot AC</td>\n",
       "      <td>BAC</td>\n",
       "      <td>52</td>\n",
       "      <td>Balanced</td>\n",
       "      <td>48.000000</td>\n",
       "      <td>Normal</td>\n",
       "      <td>56</td>\n",
       "      <td>Mixed</td>\n",
       "    </tr>\n",
       "    <tr>\n",
       "      <th>2</th>\n",
       "      <td>10000</td>\n",
       "      <td>15005.0</td>\n",
       "      <td>SV Zulte-Waregem</td>\n",
       "      <td>ZUL</td>\n",
       "      <td>47</td>\n",
       "      <td>Balanced</td>\n",
       "      <td>41.000000</td>\n",
       "      <td>Normal</td>\n",
       "      <td>54</td>\n",
       "      <td>Mixed</td>\n",
       "    </tr>\n",
       "    <tr>\n",
       "      <th>3</th>\n",
       "      <td>9994</td>\n",
       "      <td>2007.0</td>\n",
       "      <td>Sporting Lokeren</td>\n",
       "      <td>LOK</td>\n",
       "      <td>70</td>\n",
       "      <td>Fast</td>\n",
       "      <td>52.428571</td>\n",
       "      <td>Little</td>\n",
       "      <td>70</td>\n",
       "      <td>Long</td>\n",
       "    </tr>\n",
       "    <tr>\n",
       "      <th>4</th>\n",
       "      <td>9984</td>\n",
       "      <td>1750.0</td>\n",
       "      <td>KSV Cercle Brugge</td>\n",
       "      <td>CEB</td>\n",
       "      <td>47</td>\n",
       "      <td>Balanced</td>\n",
       "      <td>52.428571</td>\n",
       "      <td>Little</td>\n",
       "      <td>52</td>\n",
       "      <td>Mixed</td>\n",
       "    </tr>\n",
       "  </tbody>\n",
       "</table>\n",
       "</div>"
      ],
      "text/plain": [
       "   team_api_id  team_fifa_api_id     team_long_name team_short_name  \\\n",
       "0         9987             673.0           KRC Genk             GEN   \n",
       "1         9993             675.0       Beerschot AC             BAC   \n",
       "2        10000           15005.0   SV Zulte-Waregem             ZUL   \n",
       "3         9994            2007.0   Sporting Lokeren             LOK   \n",
       "4         9984            1750.0  KSV Cercle Brugge             CEB   \n",
       "\n",
       "   buildUpPlaySpeed buildUpPlaySpeedClass  buildUpPlayDribbling  \\\n",
       "0                60              Balanced             52.428571   \n",
       "1                52              Balanced             48.000000   \n",
       "2                47              Balanced             41.000000   \n",
       "3                70                  Fast             52.428571   \n",
       "4                47              Balanced             52.428571   \n",
       "\n",
       "  buildUpPlayDribblingClass  buildUpPlayPassing buildUpPlayPassingClass  \n",
       "0                    Little                  50                   Mixed  \n",
       "1                    Normal                  56                   Mixed  \n",
       "2                    Normal                  54                   Mixed  \n",
       "3                    Little                  70                    Long  \n",
       "4                    Little                  52                   Mixed  "
      ]
     },
     "execution_count": 13,
     "metadata": {},
     "output_type": "execute_result"
    }
   ],
   "source": [
    "team.head()"
   ]
  },
  {
   "cell_type": "markdown",
   "metadata": {},
   "source": [
    ">Since the primary table of interest is the play table my focus will be on this table \n",
    "Replacing missing values on data"
   ]
  },
  {
   "cell_type": "code",
   "execution_count": 14,
   "metadata": {},
   "outputs": [],
   "source": [
    "#fixing rating and potential missing values\n",
    "replace = play.columns\n",
    "for item in replace:\n",
    "    mean_fn = play[item].mean()\n",
    "    play[item].fillna(mean_fn, inplace = True)\n",
    "        "
   ]
  },
  {
   "cell_type": "code",
   "execution_count": 15,
   "metadata": {},
   "outputs": [
    {
     "name": "stdout",
     "output_type": "stream",
     "text": [
      "<class 'pandas.core.frame.DataFrame'>\n",
      "RangeIndex: 11060 entries, 0 to 11059\n",
      "Data columns (total 30 columns):\n",
      " #   Column              Non-Null Count  Dtype  \n",
      "---  ------              --------------  -----  \n",
      " 0   player_api_id       11060 non-null  int64  \n",
      " 1   player_fifa_api_id  11060 non-null  int64  \n",
      " 2   height              11060 non-null  float64\n",
      " 3   weight              11060 non-null  int64  \n",
      " 4   overall_rating      11060 non-null  float64\n",
      " 5   potential           11060 non-null  float64\n",
      " 6   crossing            11060 non-null  float64\n",
      " 7   finishing           11060 non-null  float64\n",
      " 8   heading_accuracy    11060 non-null  float64\n",
      " 9   short_passing       11060 non-null  float64\n",
      " 10  volleys             11060 non-null  float64\n",
      " 11  dribbling           11060 non-null  float64\n",
      " 12  curve               11060 non-null  float64\n",
      " 13  free_kick_accuracy  11060 non-null  float64\n",
      " 14  long_passing        11060 non-null  float64\n",
      " 15  ball_control        11060 non-null  float64\n",
      " 16  acceleration        11060 non-null  float64\n",
      " 17  sprint_speed        11060 non-null  float64\n",
      " 18  reactions           11060 non-null  float64\n",
      " 19  balance             11060 non-null  float64\n",
      " 20  shot_power          11060 non-null  float64\n",
      " 21  stamina             11060 non-null  float64\n",
      " 22  strength            11060 non-null  float64\n",
      " 23  long_shots          11060 non-null  float64\n",
      " 24  aggression          11060 non-null  float64\n",
      " 25  positioning         11060 non-null  float64\n",
      " 26  penalties           11060 non-null  float64\n",
      " 27  marking             11060 non-null  float64\n",
      " 28  standing_tackle     11060 non-null  float64\n",
      " 29  sliding_tackle      11060 non-null  float64\n",
      "dtypes: float64(27), int64(3)\n",
      "memory usage: 2.5 MB\n"
     ]
    }
   ],
   "source": [
    "\n",
    "play.info()"
   ]
  },
  {
   "cell_type": "code",
   "execution_count": 16,
   "metadata": {},
   "outputs": [
    {
     "data": {
      "text/html": [
       "<div>\n",
       "<style scoped>\n",
       "    .dataframe tbody tr th:only-of-type {\n",
       "        vertical-align: middle;\n",
       "    }\n",
       "\n",
       "    .dataframe tbody tr th {\n",
       "        vertical-align: top;\n",
       "    }\n",
       "\n",
       "    .dataframe thead th {\n",
       "        text-align: right;\n",
       "    }\n",
       "</style>\n",
       "<table border=\"1\" class=\"dataframe\">\n",
       "  <thead>\n",
       "    <tr style=\"text-align: right;\">\n",
       "      <th></th>\n",
       "      <th>player_api_id</th>\n",
       "      <th>player_fifa_api_id</th>\n",
       "      <th>height</th>\n",
       "      <th>weight</th>\n",
       "      <th>overall_rating</th>\n",
       "      <th>potential</th>\n",
       "      <th>crossing</th>\n",
       "      <th>finishing</th>\n",
       "      <th>heading_accuracy</th>\n",
       "      <th>short_passing</th>\n",
       "      <th>...</th>\n",
       "      <th>shot_power</th>\n",
       "      <th>stamina</th>\n",
       "      <th>strength</th>\n",
       "      <th>long_shots</th>\n",
       "      <th>aggression</th>\n",
       "      <th>positioning</th>\n",
       "      <th>penalties</th>\n",
       "      <th>marking</th>\n",
       "      <th>standing_tackle</th>\n",
       "      <th>sliding_tackle</th>\n",
       "    </tr>\n",
       "  </thead>\n",
       "  <tbody>\n",
       "    <tr>\n",
       "      <th>count</th>\n",
       "      <td>11060.000000</td>\n",
       "      <td>11060.000000</td>\n",
       "      <td>11060.000000</td>\n",
       "      <td>11060.000000</td>\n",
       "      <td>11060.000000</td>\n",
       "      <td>11060.000000</td>\n",
       "      <td>11060.000000</td>\n",
       "      <td>11060.000000</td>\n",
       "      <td>11060.000000</td>\n",
       "      <td>11060.000000</td>\n",
       "      <td>...</td>\n",
       "      <td>11060.000000</td>\n",
       "      <td>11060.000000</td>\n",
       "      <td>11060.000000</td>\n",
       "      <td>11060.000000</td>\n",
       "      <td>11060.000000</td>\n",
       "      <td>11060.000000</td>\n",
       "      <td>11060.000000</td>\n",
       "      <td>11060.000000</td>\n",
       "      <td>11060.000000</td>\n",
       "      <td>11060.000000</td>\n",
       "    </tr>\n",
       "    <tr>\n",
       "      <th>mean</th>\n",
       "      <td>156582.427215</td>\n",
       "      <td>165664.910488</td>\n",
       "      <td>181.867445</td>\n",
       "      <td>168.380289</td>\n",
       "      <td>68.546956</td>\n",
       "      <td>73.888758</td>\n",
       "      <td>55.313129</td>\n",
       "      <td>51.112240</td>\n",
       "      <td>56.624989</td>\n",
       "      <td>62.900372</td>\n",
       "      <td>...</td>\n",
       "      <td>62.339352</td>\n",
       "      <td>67.137646</td>\n",
       "      <td>66.514563</td>\n",
       "      <td>54.635151</td>\n",
       "      <td>60.514835</td>\n",
       "      <td>57.153071</td>\n",
       "      <td>55.227656</td>\n",
       "      <td>45.702386</td>\n",
       "      <td>49.648852</td>\n",
       "      <td>47.100229</td>\n",
       "    </tr>\n",
       "    <tr>\n",
       "      <th>std</th>\n",
       "      <td>160713.700624</td>\n",
       "      <td>58649.928360</td>\n",
       "      <td>6.369201</td>\n",
       "      <td>14.990217</td>\n",
       "      <td>7.079292</td>\n",
       "      <td>6.515596</td>\n",
       "      <td>16.733720</td>\n",
       "      <td>18.568472</td>\n",
       "      <td>15.783017</td>\n",
       "      <td>14.059144</td>\n",
       "      <td>...</td>\n",
       "      <td>15.722595</td>\n",
       "      <td>13.118304</td>\n",
       "      <td>12.626841</td>\n",
       "      <td>17.893527</td>\n",
       "      <td>15.865747</td>\n",
       "      <td>17.801735</td>\n",
       "      <td>14.955073</td>\n",
       "      <td>21.008586</td>\n",
       "      <td>21.244177</td>\n",
       "      <td>21.258454</td>\n",
       "    </tr>\n",
       "    <tr>\n",
       "      <th>min</th>\n",
       "      <td>2625.000000</td>\n",
       "      <td>2.000000</td>\n",
       "      <td>157.480000</td>\n",
       "      <td>117.000000</td>\n",
       "      <td>40.000000</td>\n",
       "      <td>51.000000</td>\n",
       "      <td>6.000000</td>\n",
       "      <td>2.000000</td>\n",
       "      <td>3.000000</td>\n",
       "      <td>3.000000</td>\n",
       "      <td>...</td>\n",
       "      <td>6.000000</td>\n",
       "      <td>14.000000</td>\n",
       "      <td>20.000000</td>\n",
       "      <td>3.000000</td>\n",
       "      <td>10.000000</td>\n",
       "      <td>3.000000</td>\n",
       "      <td>6.000000</td>\n",
       "      <td>1.000000</td>\n",
       "      <td>2.000000</td>\n",
       "      <td>2.000000</td>\n",
       "    </tr>\n",
       "    <tr>\n",
       "      <th>25%</th>\n",
       "      <td>35555.500000</td>\n",
       "      <td>151889.500000</td>\n",
       "      <td>177.800000</td>\n",
       "      <td>159.000000</td>\n",
       "      <td>64.000000</td>\n",
       "      <td>69.000000</td>\n",
       "      <td>45.000000</td>\n",
       "      <td>36.750000</td>\n",
       "      <td>48.000000</td>\n",
       "      <td>58.000000</td>\n",
       "      <td>...</td>\n",
       "      <td>55.000000</td>\n",
       "      <td>61.000000</td>\n",
       "      <td>59.000000</td>\n",
       "      <td>43.000000</td>\n",
       "      <td>50.000000</td>\n",
       "      <td>48.000000</td>\n",
       "      <td>46.000000</td>\n",
       "      <td>25.000000</td>\n",
       "      <td>29.000000</td>\n",
       "      <td>25.000000</td>\n",
       "    </tr>\n",
       "    <tr>\n",
       "      <th>50%</th>\n",
       "      <td>96619.500000</td>\n",
       "      <td>184671.000000</td>\n",
       "      <td>182.880000</td>\n",
       "      <td>168.000000</td>\n",
       "      <td>69.000000</td>\n",
       "      <td>74.000000</td>\n",
       "      <td>59.000000</td>\n",
       "      <td>55.000000</td>\n",
       "      <td>59.000000</td>\n",
       "      <td>66.000000</td>\n",
       "      <td>...</td>\n",
       "      <td>65.000000</td>\n",
       "      <td>69.000000</td>\n",
       "      <td>68.000000</td>\n",
       "      <td>59.000000</td>\n",
       "      <td>63.000000</td>\n",
       "      <td>61.000000</td>\n",
       "      <td>56.000000</td>\n",
       "      <td>47.000000</td>\n",
       "      <td>54.000000</td>\n",
       "      <td>48.000000</td>\n",
       "    </tr>\n",
       "    <tr>\n",
       "      <th>75%</th>\n",
       "      <td>212470.500000</td>\n",
       "      <td>203883.250000</td>\n",
       "      <td>185.420000</td>\n",
       "      <td>179.000000</td>\n",
       "      <td>74.000000</td>\n",
       "      <td>78.000000</td>\n",
       "      <td>68.000000</td>\n",
       "      <td>66.000000</td>\n",
       "      <td>67.000000</td>\n",
       "      <td>73.000000</td>\n",
       "      <td>...</td>\n",
       "      <td>74.000000</td>\n",
       "      <td>76.000000</td>\n",
       "      <td>75.000000</td>\n",
       "      <td>68.000000</td>\n",
       "      <td>73.000000</td>\n",
       "      <td>70.000000</td>\n",
       "      <td>66.000000</td>\n",
       "      <td>65.000000</td>\n",
       "      <td>68.000000</td>\n",
       "      <td>66.000000</td>\n",
       "    </tr>\n",
       "    <tr>\n",
       "      <th>max</th>\n",
       "      <td>750584.000000</td>\n",
       "      <td>234141.000000</td>\n",
       "      <td>208.280000</td>\n",
       "      <td>243.000000</td>\n",
       "      <td>91.000000</td>\n",
       "      <td>93.000000</td>\n",
       "      <td>92.000000</td>\n",
       "      <td>93.000000</td>\n",
       "      <td>93.000000</td>\n",
       "      <td>92.000000</td>\n",
       "      <td>...</td>\n",
       "      <td>96.000000</td>\n",
       "      <td>94.000000</td>\n",
       "      <td>95.000000</td>\n",
       "      <td>93.000000</td>\n",
       "      <td>94.000000</td>\n",
       "      <td>95.000000</td>\n",
       "      <td>94.000000</td>\n",
       "      <td>94.000000</td>\n",
       "      <td>95.000000</td>\n",
       "      <td>90.000000</td>\n",
       "    </tr>\n",
       "  </tbody>\n",
       "</table>\n",
       "<p>8 rows × 30 columns</p>\n",
       "</div>"
      ],
      "text/plain": [
       "       player_api_id  player_fifa_api_id        height        weight  \\\n",
       "count   11060.000000        11060.000000  11060.000000  11060.000000   \n",
       "mean   156582.427215       165664.910488    181.867445    168.380289   \n",
       "std    160713.700624        58649.928360      6.369201     14.990217   \n",
       "min      2625.000000            2.000000    157.480000    117.000000   \n",
       "25%     35555.500000       151889.500000    177.800000    159.000000   \n",
       "50%     96619.500000       184671.000000    182.880000    168.000000   \n",
       "75%    212470.500000       203883.250000    185.420000    179.000000   \n",
       "max    750584.000000       234141.000000    208.280000    243.000000   \n",
       "\n",
       "       overall_rating     potential      crossing     finishing  \\\n",
       "count    11060.000000  11060.000000  11060.000000  11060.000000   \n",
       "mean        68.546956     73.888758     55.313129     51.112240   \n",
       "std          7.079292      6.515596     16.733720     18.568472   \n",
       "min         40.000000     51.000000      6.000000      2.000000   \n",
       "25%         64.000000     69.000000     45.000000     36.750000   \n",
       "50%         69.000000     74.000000     59.000000     55.000000   \n",
       "75%         74.000000     78.000000     68.000000     66.000000   \n",
       "max         91.000000     93.000000     92.000000     93.000000   \n",
       "\n",
       "       heading_accuracy  short_passing  ...    shot_power       stamina  \\\n",
       "count      11060.000000   11060.000000  ...  11060.000000  11060.000000   \n",
       "mean          56.624989      62.900372  ...     62.339352     67.137646   \n",
       "std           15.783017      14.059144  ...     15.722595     13.118304   \n",
       "min            3.000000       3.000000  ...      6.000000     14.000000   \n",
       "25%           48.000000      58.000000  ...     55.000000     61.000000   \n",
       "50%           59.000000      66.000000  ...     65.000000     69.000000   \n",
       "75%           67.000000      73.000000  ...     74.000000     76.000000   \n",
       "max           93.000000      92.000000  ...     96.000000     94.000000   \n",
       "\n",
       "           strength    long_shots    aggression   positioning     penalties  \\\n",
       "count  11060.000000  11060.000000  11060.000000  11060.000000  11060.000000   \n",
       "mean      66.514563     54.635151     60.514835     57.153071     55.227656   \n",
       "std       12.626841     17.893527     15.865747     17.801735     14.955073   \n",
       "min       20.000000      3.000000     10.000000      3.000000      6.000000   \n",
       "25%       59.000000     43.000000     50.000000     48.000000     46.000000   \n",
       "50%       68.000000     59.000000     63.000000     61.000000     56.000000   \n",
       "75%       75.000000     68.000000     73.000000     70.000000     66.000000   \n",
       "max       95.000000     93.000000     94.000000     95.000000     94.000000   \n",
       "\n",
       "            marking  standing_tackle  sliding_tackle  \n",
       "count  11060.000000     11060.000000    11060.000000  \n",
       "mean      45.702386        49.648852       47.100229  \n",
       "std       21.008586        21.244177       21.258454  \n",
       "min        1.000000         2.000000        2.000000  \n",
       "25%       25.000000        29.000000       25.000000  \n",
       "50%       47.000000        54.000000       48.000000  \n",
       "75%       65.000000        68.000000       66.000000  \n",
       "max       94.000000        95.000000       90.000000  \n",
       "\n",
       "[8 rows x 30 columns]"
      ]
     },
     "execution_count": 16,
     "metadata": {},
     "output_type": "execute_result"
    }
   ],
   "source": [
    "play.describe()"
   ]
  },
  {
   "cell_type": "markdown",
   "metadata": {},
   "source": [
    "## How are sprint speed, height and acceleration related?\n"
   ]
  },
  {
   "cell_type": "markdown",
   "metadata": {},
   "source": [
    " #### Checking the distribution of sprint speed, acceleration using histograms"
   ]
  },
  {
   "cell_type": "code",
   "execution_count": 17,
   "metadata": {},
   "outputs": [
    {
     "data": {
      "text/plain": [
       "<AxesSubplot:>"
      ]
     },
     "execution_count": 17,
     "metadata": {},
     "output_type": "execute_result"
    },
    {
     "data": {
      "image/png": "[encoded data removed]",
      "text/plain": [
       "<Figure size 432x288 with 1 Axes>"
      ]
     },
     "metadata": {
      "needs_background": "light"
     },
     "output_type": "display_data"
    }
   ],
   "source": [
    "play['sprint_speed'].hist()"
   ]
  },
  {
   "cell_type": "code",
   "execution_count": 18,
   "metadata": {},
   "outputs": [
    {
     "data": {
      "text/plain": [
       "<AxesSubplot:>"
      ]
     },
     "execution_count": 18,
     "metadata": {},
     "output_type": "execute_result"
    },
    {
     "data": {
      "image/png": "[encoded data removed]",
      "text/plain": [
       "<Figure size 432x288 with 1 Axes>"
      ]
     },
     "metadata": {
      "needs_background": "light"
     },
     "output_type": "display_data"
    }
   ],
   "source": [
    "play['acceleration'].hist()"
   ]
  },
  {
   "cell_type": "markdown",
   "metadata": {},
   "source": [
    "######  * Using scatter plots to find the relationships between acceleration sprint speed and height *"
   ]
  },
  {
   "cell_type": "code",
   "execution_count": 26,
   "metadata": {},
   "outputs": [
    {
     "data": {
      "image/png": "[encoded data removed]",
      "text/plain": [
       "<Figure size 504x360 with 1 Axes>"
      ]
     },
     "metadata": {
      "needs_background": "light"
     },
     "output_type": "display_data"
    }
   ],
   "source": [
    "play.plot(x ='sprint_speed', y ='acceleration', kind ='scatter',figsize=(7,5))\n",
    "plt.title('acceleration vs sprint speed');"
   ]
  },
  {
   "cell_type": "code",
   "execution_count": 25,
   "metadata": {},
   "outputs": [
    {
     "data": {
      "image/png": "[encoded data removed]",
      "text/plain": [
       "<Figure size 432x288 with 1 Axes>"
      ]
     },
     "metadata": {
      "needs_background": "light"
     },
     "output_type": "display_data"
    }
   ],
   "source": [
    "play.plot(x ='height', y ='acceleration', kind ='scatter')\n",
    "plt.title('acceleration vs height');"
   ]
  },
  {
   "cell_type": "code",
   "execution_count": 24,
   "metadata": {},
   "outputs": [
    {
     "data": {
      "image/png": "[encoded data removed]",
      "text/plain": [
       "<Figure size 432x288 with 1 Axes>"
      ]
     },
     "metadata": {
      "needs_background": "light"
     },
     "output_type": "display_data"
    }
   ],
   "source": [
    "play.plot(x ='height', y ='sprint_speed', kind ='scatter')\n",
    "plt.title('height vs sprint speed');"
   ]
  },
  {
   "cell_type": "markdown",
   "metadata": {},
   "source": [
    "### CONCLUSION"
   ]
  },
  {
   "cell_type": "markdown",
   "metadata": {},
   "source": [
    "It seems to me there is a *storng  relationships * between acceleration and sprint_speed of a player\n",
    "But the height has a _weak _relationship between height and sprint speed also height and acceleration has a weak relationship in comparison to  sprint speed and acceleration"
   ]
  }
 ],
 "metadata": {
  "kernelspec": {
   "display_name": "Python 3",
   "language": "python",
   "name": "python3"
  },
  "language_info": {
   "codemirror_mode": {
    "name": "ipython",
    "version": 3
   },
   "file_extension": ".py",
   "mimetype": "text/x-python",
   "name": "python",
   "nbconvert_exporter": "python",
   "pygments_lexer": "ipython3",
   "version": "3.8.5"
  }
 },
 "nbformat": 4,
 "nbformat_minor": 4
}
